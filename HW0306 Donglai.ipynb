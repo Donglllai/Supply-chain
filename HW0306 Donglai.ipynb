{
  "nbformat": 4,
  "nbformat_minor": 0,
  "metadata": {
    "colab": {
      "provenance": [],
      "authorship_tag": "ABX9TyMvCI5fcmY4ceah0NW3wDaa",
      "include_colab_link": true
    },
    "kernelspec": {
      "name": "python3",
      "display_name": "Python 3"
    },
    "language_info": {
      "name": "python"
    }
  },
  "cells": [
    {
      "cell_type": "markdown",
      "metadata": {
        "id": "view-in-github",
        "colab_type": "text"
      },
      "source": [
        "<a href=\"https://colab.research.google.com/github/Donglllai/Supply-chain/blob/main/HW0306%20Donglai.ipynb\" target=\"_parent\"><img src=\"https://colab.research.google.com/assets/colab-badge.svg\" alt=\"Open In Colab\"/></a>"
      ]
    },
    {
      "cell_type": "code",
      "execution_count": null,
      "metadata": {
        "colab": {
          "base_uri": "https://localhost:8080/"
        },
        "id": "4zXfDWI6cVqi",
        "outputId": "5fa4fac3-83e5-4cd8-ee84-464471e20486"
      },
      "outputs": [
        {
          "output_type": "stream",
          "name": "stdout",
          "text": [
            "                  Strategy  Annual Operational Cost\n",
            "0     Independent Sourcing              3271.475283\n",
            "1  Same Frequency Sourcing              2254.786575\n",
            "2     Tailored Aggregation              3271.475283\n"
          ]
        }
      ],
      "source": [
        "import numpy as np\n",
        "import pandas as pd\n",
        "\n",
        "# Product dictionary\n",
        "products = {\n",
        "    1: {\"demand\": 1000, \"common_ordering_cost\": 150, \"specific_ordering_cost\": 20, \"unit_cost\": 50, \"holding_cost_rate\": 0.15},\n",
        "    2: {\"demand\": 300, \"common_ordering_cost\": 150, \"specific_ordering_cost\": 25, \"unit_cost\": 60, \"holding_cost_rate\": 0.15},\n",
        "    3: {\"demand\": 100, \"common_ordering_cost\": 150, \"specific_ordering_cost\": 30, \"unit_cost\": 30, \"holding_cost_rate\": 0.15},\n",
        "    4: {\"demand\": 50, \"common_ordering_cost\": 150, \"specific_ordering_cost\": 50, \"unit_cost\": 30, \"holding_cost_rate\": 0.15},\n",
        "}\n",
        "\n",
        "# EOQ cost function\n",
        "def calculate_eoq_cost(demand, ordering_cost, unit_cost, holding_cost_rate):\n",
        "    holding_cost = unit_cost * holding_cost_rate\n",
        "    order_quantity = np.sqrt((2 * demand * ordering_cost) / holding_cost)\n",
        "    num_orders = demand / order_quantity\n",
        "    total_ordering_cost = num_orders * ordering_cost\n",
        "    total_holding_cost = (order_quantity / 2) * holding_cost\n",
        "    return total_ordering_cost + total_holding_cost, order_quantity, num_orders\n",
        "\n",
        "# Strategy 1: Independent Sourcing\n",
        "independent_cost = sum(\n",
        "    calculate_eoq_cost(\n",
        "        data[\"demand\"],\n",
        "        data[\"common_ordering_cost\"] + data[\"specific_ordering_cost\"],\n",
        "        data[\"unit_cost\"],\n",
        "        data[\"holding_cost_rate\"]\n",
        "    )[0]\n",
        "    for data in products.values()\n",
        ")\n",
        "\n",
        "# Strategy 2: Same Frequency Sourcing\n",
        "total_demand = sum(data[\"demand\"] for data in products.values())\n",
        "total_ordering_cost = sum(data[\"specific_ordering_cost\"] for data in products.values()) + products[1][\"common_ordering_cost\"]\n",
        "avg_unit_cost = np.mean([data[\"unit_cost\"] for data in products.values()])\n",
        "avg_holding_cost_rate = np.mean([data[\"holding_cost_rate\"] for data in products.values()])\n",
        "same_freq_cost, same_freq_q, same_freq_orders = calculate_eoq_cost(total_demand, total_ordering_cost, avg_unit_cost, avg_holding_cost_rate)\n",
        "\n",
        "# Strategy 3: Tailored Aggregation\n",
        "eoq_values = {\n",
        "    p: calculate_eoq_cost(data[\"demand\"], data[\"specific_ordering_cost\"], data[\"unit_cost\"], data[\"holding_cost_rate\"])[1]\n",
        "    for p, data in products.items()\n",
        "}\n",
        "min_eoq = min(eoq_values.values())\n",
        "freq_ratios = {p: round(eoq_values[p] / min_eoq) for p in products}\n",
        "\n",
        "# Finding common ordering cycle time\n",
        "common_cycle_time = min(\n",
        "    products[p][\"demand\"] / (freq_ratios[p] * eoq_values[p]) for p in products\n",
        ")\n",
        "\n",
        "# Computing costs for tailored aggregation\n",
        "tailored_cost = sum(\n",
        "    calculate_eoq_cost(\n",
        "        data[\"demand\"],\n",
        "        products[1][\"common_ordering_cost\"] / min(freq_ratios.values()) + data[\"specific_ordering_cost\"],\n",
        "        data[\"unit_cost\"],\n",
        "        data[\"holding_cost_rate\"]\n",
        "    )[0]\n",
        "    for data in products.values()\n",
        ")\n",
        "\n",
        "# Creating results dataframe\n",
        "results_df = pd.DataFrame({\n",
        "    \"Strategy\": [\"Independent Sourcing\", \"Same Frequency Sourcing\", \"Tailored Aggregation\"],\n",
        "    \"Annual Operational Cost\": [independent_cost, same_freq_cost, tailored_cost]\n",
        "})\n",
        "\n",
        "# Display results\n",
        "print(results_df)\n",
        "\n"
      ]
    }
  ]
}