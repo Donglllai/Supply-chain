{
  "nbformat": 4,
  "nbformat_minor": 0,
  "metadata": {
    "colab": {
      "provenance": [],
      "authorship_tag": "ABX9TyM5Dd7rtbH4qQcNvgM1+zlH",
      "include_colab_link": true
    },
    "kernelspec": {
      "name": "python3",
      "display_name": "Python 3"
    },
    "language_info": {
      "name": "python"
    }
  },
  "cells": [
    {
      "cell_type": "markdown",
      "metadata": {
        "id": "view-in-github",
        "colab_type": "text"
      },
      "source": [
        "<a href=\"https://colab.research.google.com/github/Donglllai/Supply-chain/blob/main/Biopherma0212.ipynb\" target=\"_parent\"><img src=\"https://colab.research.google.com/assets/colab-badge.svg\" alt=\"Open In Colab\"/></a>"
      ]
    },
    {
      "cell_type": "code",
      "execution_count": 8,
      "metadata": {
        "colab": {
          "base_uri": "https://localhost:8080/"
        },
        "id": "jjqtDl6TsiC_",
        "outputId": "eea00fd4-657f-4865-d34e-2638e66bcc94"
      },
      "outputs": [
        {
          "output_type": "stream",
          "name": "stdout",
          "text": [
            "Requirement already satisfied: gurobipy in /usr/local/lib/python3.11/dist-packages (12.0.1)\n"
          ]
        }
      ],
      "source": [
        "!pip install gurobipy\n",
        "import numpy as np\n",
        "import pandas as pd\n",
        "from scipy.stats import multivariate_normal\n",
        "from gurobipy import Model, GRB"
      ]
    },
    {
      "cell_type": "code",
      "source": [
        "import numpy as np\n",
        "import pandas as pd\n",
        "from scipy.stats import multivariate_normal\n",
        "from gurobipy import Model, GRB, quicksum\n",
        "\n",
        "\n",
        "np.random.seed(42)\n",
        "\n",
        "\n",
        "num_samples = 100\n",
        "mean_rates = np.array([1.1, 0.9, 1.3, 1.2, 0.8, 1])\n",
        "cov_matrix = np.array([\n",
        "    [0.02, 0.01, 0.01, 0.00, 0.00, 0.00],\n",
        "    [0.01, 0.03, 0.00, 0.01, 0.00, 0.00],\n",
        "    [0.01, 0.00, 0.04, 0.01, 0.00, 0.00],\n",
        "    [0.00, 0.01, 0.01, 0.05, 0.00, 0.00],\n",
        "    [0.00, 0.00, 0.00, 0.00, 0.03, 0.00],\n",
        "    [0.00, 0.00, 0.00, 0.00, 0.00, 0.00]\n",
        "])\n",
        "exchange_rate_samples = multivariate_normal.rvs(mean_rates, cov_matrix, size=num_samples)\n",
        "\n",
        "# factory data\n",
        "factories = ['Brazil', 'Germany', 'India', 'Japan', 'Mexico', 'U.S.']\n",
        "pcosts = pd.DataFrame({\n",
        "    'plant': factories,\n",
        "    'fc_p': [20, 45, 14, 13, 30, 23],\n",
        "    'fc_h': [5, 13, 3, 4, 6, 5],\n",
        "    'fc_r': [5, 13, 3, 4, 6, 5],\n",
        "    'rm_h': [3.6, 3.9, 3.6, 3.9, 3.6, 3.6],\n",
        "    'pc_h': [5.1, 6.0, 4.5, 6.0, 5.0, 5.0],\n",
        "    'rm_r': [4.6, 5.0, 4.5, 5.1, 4.6, 4.5],\n",
        "    'pc_r': [6.6, 7.0, 6.0, 7.0, 6.5, 6.5],\n",
        "})\n",
        "pcosts.set_index('plant', inplace=True)\n",
        "\n",
        "caps = pd.DataFrame({'plant': factories, 'cap': [18, 45, 18, 10, 30, 22]})\n",
        "caps.set_index('plant', inplace=True)\n",
        "\n",
        "demand = pd.DataFrame({\n",
        "    'from': ['LatinAmerica', 'Europe', 'AsiaWoJapan', 'Japan', 'Mexico', 'U.S.'],\n",
        "    'd_h': [7, 15, 5, 7, 3, 18],\n",
        "    'd_r': [7, 12, 3, 8, 3, 17],\n",
        "})\n",
        "demand.set_index('from', inplace=True)\n",
        "\n",
        "\n",
        "factory_open_matrix = np.zeros((num_samples, len(factories)))\n",
        "\n",
        "factory_open_counts = pd.DataFrame(0, index=factories, columns=['Open Count'])\n",
        "\n",
        "for i in range(num_samples):\n",
        "\n",
        "    reindx = mean_rates / exchange_rate_samples[i]\n",
        "    pcosts_rev = pcosts.values * reindx.reshape(-1, 1)\n",
        "    pcosts_rev = pd.DataFrame(pcosts_rev, columns=pcosts.columns, index=pcosts.index)\n",
        "\n",
        "    model = Model(\"MinimizeCost\")\n",
        "\n",
        "    dec_plant = {plant: model.addVar(vtype=GRB.BINARY, name=f\"Dec_plant_{plant}\") for plant in factories}\n",
        "    dec_h = {(i, j): model.addVar(vtype=GRB.CONTINUOUS, lb=0, name=f\"Dec_h_{i}_{j}\") for i in factories for j in demand.index}\n",
        "    dec_r = {(i, j): model.addVar(vtype=GRB.CONTINUOUS, lb=0, name=f\"Dec_r_{i}_{j}\") for i in factories for j in demand.index}\n",
        "\n",
        "    # constraint 1\n",
        "    for plant in factories:\n",
        "        model.addConstr(\n",
        "            quicksum(dec_h[plant, j] + dec_r[plant, j] for j in demand.index) <= dec_plant[plant] * caps.loc[plant, 'cap'],\n",
        "            name=f\"Capacity_{plant}\"\n",
        "        )\n",
        "\n",
        "    # constraint 2\n",
        "    for j in demand.index:\n",
        "        model.addConstr(\n",
        "            quicksum(dec_h[i, j] for i in factories) >= demand.loc[j, 'd_h'],\n",
        "            name=f\"Demand_HighCal_{j}\"\n",
        "        )\n",
        "        model.addConstr(\n",
        "            quicksum(dec_r[i, j] for i in factories) >= demand.loc[j, 'd_r'],\n",
        "            name=f\"Demand_Relax_{j}\"\n",
        "        )\n",
        "\n",
        "    # target: minimize cost\n",
        "    total_cost = quicksum(\n",
        "        dec_plant[i] * pcosts_rev.loc[i, 'fc_p'] for i in factories\n",
        "    ) + quicksum(\n",
        "        (pcosts_rev.loc[i, 'rm_h'] + pcosts_rev.loc[i, 'pc_h']) * dec_h[i, j]\n",
        "        + (pcosts_rev.loc[i, 'rm_r'] + pcosts_rev.loc[i, 'pc_r']) * dec_r[i, j]\n",
        "        for i in factories for j in demand.index\n",
        "    )\n",
        "    model.setObjective(total_cost, GRB.MINIMIZE)\n",
        "    model.Params.OutputFlag = 0\n",
        "    model.optimize()\n",
        "\n",
        "\n",
        "    for idx, plant in enumerate(factories):\n",
        "        factory_open_matrix[i, idx] = int(dec_plant[plant].x > 0.5)\n",
        "    for plant in factories:\n",
        "        if dec_plant[plant].x > 0.5:\n",
        "            factory_open_counts.loc[plant, 'Open Count'] += 1\n",
        "\n",
        "# output\n",
        "print(factory_open_counts)\n",
        "\n",
        "factory_open_df = pd.DataFrame(factory_open_matrix, columns=factories)\n",
        "\n",
        "print(factory_open_df)\n",
        "\n"
      ],
      "metadata": {
        "colab": {
          "base_uri": "https://localhost:8080/"
        },
        "id": "Aw9BDThEtAo3",
        "outputId": "06878d36-e99c-427c-c4e8-21dbabb7bd22"
      },
      "execution_count": 9,
      "outputs": [
        {
          "output_type": "stream",
          "name": "stdout",
          "text": [
            "         Open Count\n",
            "Brazil           79\n",
            "Germany         100\n",
            "India            92\n",
            "Japan            54\n",
            "Mexico           72\n",
            "U.S.             85\n",
            "    Brazil  Germany  India  Japan  Mexico  U.S.\n",
            "0      1.0      1.0    1.0    0.0     1.0   0.0\n",
            "1      0.0      1.0    1.0    0.0     1.0   1.0\n",
            "2      1.0      1.0    1.0    1.0     1.0   1.0\n",
            "3      1.0      1.0    1.0    1.0     0.0   1.0\n",
            "4      0.0      1.0    1.0    1.0     1.0   1.0\n",
            "..     ...      ...    ...    ...     ...   ...\n",
            "95     0.0      1.0    0.0    1.0     1.0   1.0\n",
            "96     1.0      1.0    1.0    1.0     1.0   1.0\n",
            "97     0.0      1.0    0.0    1.0     1.0   1.0\n",
            "98     1.0      1.0    1.0    0.0     1.0   1.0\n",
            "99     1.0      1.0    1.0    1.0     0.0   1.0\n",
            "\n",
            "[100 rows x 6 columns]\n"
          ]
        }
      ]
    },
    {
      "cell_type": "code",
      "source": [
        "import pandas as pd\n",
        "import numpy as np\n",
        "\n",
        "\n",
        "exchange_rate_samples_df = pd.DataFrame(exchange_rate_samples,columns=factories)\n",
        "\n",
        "exchange_rate_correlation = exchange_rate_samples_df.corr()\n",
        "\n",
        "# negative correlated in exchange rate <-0.1\n",
        "negative_correlated_pairs = [(i, j) for i in factories for j in factories\n",
        "                             if i != j and exchange_rate_correlation.loc[i, j] < -0.1]\n",
        "\n",
        "print(\"negative correlated:\", negative_correlated_pairs)\n",
        "# positive correlated in exchange rate>0.1\n",
        "postive_correlated_pairs = [(i, j) for i in factories for j in factories\n",
        "                             if i != j and exchange_rate_correlation.loc[i, j] > 0.1]\n",
        "\n",
        "print(\"postive correlated\", postive_correlated_pairs)\n"
      ],
      "metadata": {
        "colab": {
          "base_uri": "https://localhost:8080/"
        },
        "id": "aN5YUfam922i",
        "outputId": "616bfdd2-0d03-4419-bff3-973232d368a3"
      },
      "execution_count": 10,
      "outputs": [
        {
          "output_type": "stream",
          "name": "stdout",
          "text": [
            "negative correlated: []\n",
            "postive correlated [('Brazil', 'Germany'), ('Brazil', 'India'), ('Germany', 'Brazil'), ('Germany', 'India'), ('Germany', 'Japan'), ('India', 'Brazil'), ('India', 'Germany'), ('India', 'Japan'), ('Japan', 'Germany'), ('Japan', 'India')]\n"
          ]
        }
      ]
    },
    {
      "cell_type": "code",
      "source": [
        "factory_open_df = pd.DataFrame(factory_open_matrix, columns=factories)\n",
        "\n",
        "# calculate correlation in factory opening\n",
        "correlation_matrix = factory_open_df.corr()\n",
        "\n",
        "# find factory that have correlation bigger than 0.1\n",
        "correlation_filtered = correlation_matrix.where(np.triu(np.ones(correlation_matrix.shape), k=1).astype(bool))\n",
        "correlation_filtered = correlation_filtered.stack().reset_index()\n",
        "correlation_filtered.columns = ['Factory_1', 'Factory_2', 'Correlation']\n",
        "correlation_filtered = correlation_filtered[correlation_filtered['Correlation'] > 0.1]\n",
        "\n",
        "# result\n",
        "print(correlation_filtered)"
      ],
      "metadata": {
        "colab": {
          "base_uri": "https://localhost:8080/"
        },
        "id": "Py0mmDQ3MDog",
        "outputId": "c25c0284-d8f4-44dc-8640-3d6c6bffebcf"
      },
      "execution_count": 11,
      "outputs": [
        {
          "output_type": "stream",
          "name": "stdout",
          "text": [
            "  Factory_1 Factory_2  Correlation\n",
            "0    Brazil     India     0.119457\n",
            "1    Brazil     Japan     0.115270\n",
            "8     Japan      U.S.     0.455150\n"
          ]
        }
      ]
    },
    {
      "cell_type": "markdown",
      "source": [
        "Since Brazil India is the only pair that have both high correlation in factory open and exchange rate. Thus, the pair we want to find is **\"Brazil India\"**"
      ],
      "metadata": {
        "id": "-PJ4v3hdJyat"
      }
    },
    {
      "cell_type": "code",
      "source": [
        "plant_open_frequencies = factory_open_counts['Open Count']/100\n",
        "\n",
        "def generate_strategy(threshold, frequencies):\n",
        "    return (frequencies > threshold).astype(int)\n",
        "\n",
        "strategies = {\n",
        "    \"High Robustness\": generate_strategy(0.8, plant_open_frequencies),\n",
        "    \"Balanced Robustness\": generate_strategy(0.6, plant_open_frequencies),\n",
        "    \"Flexible\": generate_strategy(0.4, plant_open_frequencies),\n",
        "}\n",
        "\n",
        "def evaluate_strategy(strategy, rate_samples):\n",
        "    costs = []\n",
        "    for rates in rate_samples:\n",
        "\n",
        "        reindx = mean_rates / rates\n",
        "        adjusted_costs = pcosts.values * reindx.reshape(-1, 1)\n",
        "        adjusted_costs = pd.DataFrame(adjusted_costs, columns=pcosts.columns, index=pcosts.index)\n",
        "\n",
        "\n",
        "        fixed_cost = sum(adjusted_costs.loc[plant, 'fc_p'] * strategy[plant] for plant in factories)\n",
        "\n",
        "\n",
        "        variable_cost = sum(adjusted_costs.loc[plant, 'rm_h'] + adjusted_costs.loc[plant, 'pc_h']\n",
        "                            + adjusted_costs.loc[plant, 'rm_r'] + adjusted_costs.loc[plant, 'pc_r']\n",
        "                            for plant in factories if strategy[plant] == 1)\n",
        "\n",
        "        total_cost = fixed_cost + variable_cost\n",
        "        costs.append(total_cost)\n",
        "\n",
        "    return {\n",
        "        \"mean_cost\": np.mean(costs),\n",
        "        \"std_cost\": np.std(costs)\n",
        "    }\n",
        "\n",
        "strategy_evaluations = {\n",
        "    name: evaluate_strategy(strategy, exchange_rate_samples)\n",
        "    for name, strategy in strategies.items()\n",
        "}\n",
        "recommended_strategy = min(strategy_evaluations, key=lambda s: (strategy_evaluations[s]['mean_cost'], strategy_evaluations[s]['std_cost']))\n",
        "print(\"Plant Open Frequencies:\", plant_open_frequencies)\n",
        "print(\"Strategies:\", strategies)\n",
        "print(\"Strategy Evaluations:\", strategy_evaluations)\n",
        "print(\"Recommended Strategy:\", recommended_strategy)\n"
      ],
      "metadata": {
        "colab": {
          "base_uri": "https://localhost:8080/"
        },
        "id": "TCDJx3iouSkL",
        "outputId": "c9a934e3-5673-4107-f3ae-8137aaab0113"
      },
      "execution_count": 12,
      "outputs": [
        {
          "output_type": "stream",
          "name": "stdout",
          "text": [
            "Plant Open Frequencies: Brazil     0.79\n",
            "Germany    1.00\n",
            "India      0.92\n",
            "Japan      0.54\n",
            "Mexico     0.72\n",
            "U.S.       0.85\n",
            "Name: Open Count, dtype: float64\n",
            "Strategies: {'High Robustness': Brazil     0\n",
            "Germany    1\n",
            "India      1\n",
            "Japan      0\n",
            "Mexico     0\n",
            "U.S.       1\n",
            "Name: Open Count, dtype: int64, 'Balanced Robustness': Brazil     1\n",
            "Germany    1\n",
            "India      1\n",
            "Japan      0\n",
            "Mexico     1\n",
            "U.S.       1\n",
            "Name: Open Count, dtype: int64, 'Flexible': Brazil     1\n",
            "Germany    1\n",
            "India      1\n",
            "Japan      1\n",
            "Mexico     1\n",
            "U.S.       1\n",
            "Name: Open Count, dtype: int64}\n",
            "Strategy Evaluations: {'High Robustness': {'mean_cost': 146.16644929351762, 'std_cost': 16.203897587590596}, 'Balanced Robustness': {'mean_cost': 239.38328422200982, 'std_cost': 23.169914322905097}, 'Flexible': {'mean_cost': 276.778390282508, 'std_cost': 25.139254913631927}}\n",
            "Recommended Strategy: High Robustness\n"
          ]
        }
      ]
    }
  ]
}